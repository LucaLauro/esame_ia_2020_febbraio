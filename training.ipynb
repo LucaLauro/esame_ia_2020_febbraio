{
  "nbformat": 4,
  "nbformat_minor": 0,
  "metadata": {
    "colab": {
      "name": "training.ipynb",
      "provenance": [],
      "collapsed_sections": [],
      "authorship_tag": "ABX9TyNaJ2MTiqOfs65vJ/H9NmVr"
    },
    "kernelspec": {
      "name": "python3",
      "display_name": "Python 3"
    }
  },
  "cells": [
    {
      "cell_type": "code",
      "metadata": {
        "colab": {
          "base_uri": "https://localhost:8080/"
        },
        "id": "HW9AW9fikkMD",
        "outputId": "cf9b7277-9075-4c6b-dc2a-45a5d42ebb26"
      },
      "source": [
        "!pip install seaborn\n",
        "!pip install pandas\n",
        "!pip install sklearn\n",
        "!pip install matplotlib\n",
        "!pip install numpy"
      ],
      "execution_count": 6,
      "outputs": [
        {
          "output_type": "stream",
          "text": [
            "Requirement already satisfied: seaborn in /usr/local/lib/python3.6/dist-packages (0.11.1)\n",
            "Requirement already satisfied: numpy>=1.15 in /usr/local/lib/python3.6/dist-packages (from seaborn) (1.19.5)\n",
            "Requirement already satisfied: pandas>=0.23 in /usr/local/lib/python3.6/dist-packages (from seaborn) (1.1.5)\n",
            "Requirement already satisfied: scipy>=1.0 in /usr/local/lib/python3.6/dist-packages (from seaborn) (1.4.1)\n",
            "Requirement already satisfied: matplotlib>=2.2 in /usr/local/lib/python3.6/dist-packages (from seaborn) (3.2.2)\n",
            "Requirement already satisfied: python-dateutil>=2.7.3 in /usr/local/lib/python3.6/dist-packages (from pandas>=0.23->seaborn) (2.8.1)\n",
            "Requirement already satisfied: pytz>=2017.2 in /usr/local/lib/python3.6/dist-packages (from pandas>=0.23->seaborn) (2018.9)\n",
            "Requirement already satisfied: pyparsing!=2.0.4,!=2.1.2,!=2.1.6,>=2.0.1 in /usr/local/lib/python3.6/dist-packages (from matplotlib>=2.2->seaborn) (2.4.7)\n",
            "Requirement already satisfied: kiwisolver>=1.0.1 in /usr/local/lib/python3.6/dist-packages (from matplotlib>=2.2->seaborn) (1.3.1)\n",
            "Requirement already satisfied: cycler>=0.10 in /usr/local/lib/python3.6/dist-packages (from matplotlib>=2.2->seaborn) (0.10.0)\n",
            "Requirement already satisfied: six>=1.5 in /usr/local/lib/python3.6/dist-packages (from python-dateutil>=2.7.3->pandas>=0.23->seaborn) (1.15.0)\n"
          ],
          "name": "stdout"
        }
      ]
    },
    {
      "cell_type": "markdown",
      "metadata": {
        "id": "uH3dkVjIOuJw"
      },
      "source": [
        "# Carico i dati e osservo i primi dati"
      ]
    },
    {
      "cell_type": "code",
      "metadata": {
        "colab": {
          "base_uri": "https://localhost:8080/",
          "height": 514
        },
        "id": "jZFRI6qxjuUn",
        "outputId": "8dae9e75-982f-4ac9-9c76-4e4e353f79be"
      },
      "source": [
        "import pandas as pd\n",
        "import matplotlib.pyplot as plt\n",
        "import seaborn as sns\n",
        "from sklearn.linear_model import LogisticRegression\n",
        "%matplotlib inline\n",
        "\n",
        "train_df = pd.read_csv('train.csv')\n",
        "test_df = pd.read_csv('test.csv')\n",
        "\n",
        "train_df.head(15)\n"
      ],
      "execution_count": 138,
      "outputs": [
        {
          "output_type": "execute_result",
          "data": {
            "text/html": [
              "<div>\n",
              "<style scoped>\n",
              "    .dataframe tbody tr th:only-of-type {\n",
              "        vertical-align: middle;\n",
              "    }\n",
              "\n",
              "    .dataframe tbody tr th {\n",
              "        vertical-align: top;\n",
              "    }\n",
              "\n",
              "    .dataframe thead th {\n",
              "        text-align: right;\n",
              "    }\n",
              "</style>\n",
              "<table border=\"1\" class=\"dataframe\">\n",
              "  <thead>\n",
              "    <tr style=\"text-align: right;\">\n",
              "      <th></th>\n",
              "      <th>status</th>\n",
              "      <th>gender</th>\n",
              "      <th>ssc_p</th>\n",
              "      <th>ssc_b</th>\n",
              "      <th>hsc_p</th>\n",
              "      <th>hsc_b</th>\n",
              "      <th>hsc_s</th>\n",
              "      <th>degree_p</th>\n",
              "      <th>degree_t</th>\n",
              "      <th>workex</th>\n",
              "      <th>etest_p</th>\n",
              "      <th>specialisation</th>\n",
              "      <th>mba_p</th>\n",
              "      <th>salary</th>\n",
              "    </tr>\n",
              "  </thead>\n",
              "  <tbody>\n",
              "    <tr>\n",
              "      <th>0</th>\n",
              "      <td>Not Placed</td>\n",
              "      <td>M</td>\n",
              "      <td>55.6</td>\n",
              "      <td>Others</td>\n",
              "      <td>51.0</td>\n",
              "      <td>Others</td>\n",
              "      <td>Commerce</td>\n",
              "      <td>57.50</td>\n",
              "      <td>Comm&amp;Mgmt</td>\n",
              "      <td>No</td>\n",
              "      <td>57.63</td>\n",
              "      <td>Mkt&amp;HR</td>\n",
              "      <td>62.72</td>\n",
              "      <td>NaN</td>\n",
              "    </tr>\n",
              "    <tr>\n",
              "      <th>1</th>\n",
              "      <td>Not Placed</td>\n",
              "      <td>M</td>\n",
              "      <td>61.8</td>\n",
              "      <td>Others</td>\n",
              "      <td>47.0</td>\n",
              "      <td>Others</td>\n",
              "      <td>Commerce</td>\n",
              "      <td>54.38</td>\n",
              "      <td>Comm&amp;Mgmt</td>\n",
              "      <td>No</td>\n",
              "      <td>57.00</td>\n",
              "      <td>Mkt&amp;Fin</td>\n",
              "      <td>56.13</td>\n",
              "      <td>NaN</td>\n",
              "    </tr>\n",
              "    <tr>\n",
              "      <th>2</th>\n",
              "      <td>Not Placed</td>\n",
              "      <td>M</td>\n",
              "      <td>44.0</td>\n",
              "      <td>Central</td>\n",
              "      <td>58.0</td>\n",
              "      <td>Central</td>\n",
              "      <td>Arts</td>\n",
              "      <td>55.00</td>\n",
              "      <td>Comm&amp;Mgmt</td>\n",
              "      <td>Yes</td>\n",
              "      <td>64.25</td>\n",
              "      <td>Mkt&amp;HR</td>\n",
              "      <td>58.54</td>\n",
              "      <td>NaN</td>\n",
              "    </tr>\n",
              "    <tr>\n",
              "      <th>3</th>\n",
              "      <td>Placed</td>\n",
              "      <td>F</td>\n",
              "      <td>77.0</td>\n",
              "      <td>Others</td>\n",
              "      <td>73.0</td>\n",
              "      <td>Others</td>\n",
              "      <td>Commerce</td>\n",
              "      <td>81.00</td>\n",
              "      <td>Comm&amp;Mgmt</td>\n",
              "      <td>Yes</td>\n",
              "      <td>89.00</td>\n",
              "      <td>Mkt&amp;Fin</td>\n",
              "      <td>69.70</td>\n",
              "      <td>200000.0</td>\n",
              "    </tr>\n",
              "    <tr>\n",
              "      <th>4</th>\n",
              "      <td>Placed</td>\n",
              "      <td>M</td>\n",
              "      <td>65.0</td>\n",
              "      <td>Central</td>\n",
              "      <td>65.0</td>\n",
              "      <td>Central</td>\n",
              "      <td>Commerce</td>\n",
              "      <td>75.00</td>\n",
              "      <td>Comm&amp;Mgmt</td>\n",
              "      <td>No</td>\n",
              "      <td>83.00</td>\n",
              "      <td>Mkt&amp;Fin</td>\n",
              "      <td>58.87</td>\n",
              "      <td>270000.0</td>\n",
              "    </tr>\n",
              "    <tr>\n",
              "      <th>5</th>\n",
              "      <td>Placed</td>\n",
              "      <td>F</td>\n",
              "      <td>85.0</td>\n",
              "      <td>Others</td>\n",
              "      <td>90.0</td>\n",
              "      <td>Others</td>\n",
              "      <td>Commerce</td>\n",
              "      <td>82.00</td>\n",
              "      <td>Comm&amp;Mgmt</td>\n",
              "      <td>No</td>\n",
              "      <td>92.00</td>\n",
              "      <td>Mkt&amp;Fin</td>\n",
              "      <td>68.03</td>\n",
              "      <td>300000.0</td>\n",
              "    </tr>\n",
              "    <tr>\n",
              "      <th>6</th>\n",
              "      <td>Placed</td>\n",
              "      <td>M</td>\n",
              "      <td>84.0</td>\n",
              "      <td>Others</td>\n",
              "      <td>79.0</td>\n",
              "      <td>Others</td>\n",
              "      <td>Science</td>\n",
              "      <td>68.00</td>\n",
              "      <td>Sci&amp;Tech</td>\n",
              "      <td>Yes</td>\n",
              "      <td>84.00</td>\n",
              "      <td>Mkt&amp;Fin</td>\n",
              "      <td>66.69</td>\n",
              "      <td>300000.0</td>\n",
              "    </tr>\n",
              "    <tr>\n",
              "      <th>7</th>\n",
              "      <td>Placed</td>\n",
              "      <td>F</td>\n",
              "      <td>73.0</td>\n",
              "      <td>Central</td>\n",
              "      <td>97.0</td>\n",
              "      <td>Others</td>\n",
              "      <td>Commerce</td>\n",
              "      <td>79.00</td>\n",
              "      <td>Comm&amp;Mgmt</td>\n",
              "      <td>Yes</td>\n",
              "      <td>89.00</td>\n",
              "      <td>Mkt&amp;Fin</td>\n",
              "      <td>70.81</td>\n",
              "      <td>650000.0</td>\n",
              "    </tr>\n",
              "    <tr>\n",
              "      <th>8</th>\n",
              "      <td>Placed</td>\n",
              "      <td>M</td>\n",
              "      <td>62.0</td>\n",
              "      <td>Central</td>\n",
              "      <td>72.0</td>\n",
              "      <td>Central</td>\n",
              "      <td>Commerce</td>\n",
              "      <td>65.00</td>\n",
              "      <td>Comm&amp;Mgmt</td>\n",
              "      <td>No</td>\n",
              "      <td>67.00</td>\n",
              "      <td>Mkt&amp;Fin</td>\n",
              "      <td>56.49</td>\n",
              "      <td>216000.0</td>\n",
              "    </tr>\n",
              "    <tr>\n",
              "      <th>9</th>\n",
              "      <td>Placed</td>\n",
              "      <td>F</td>\n",
              "      <td>79.0</td>\n",
              "      <td>Central</td>\n",
              "      <td>76.0</td>\n",
              "      <td>Central</td>\n",
              "      <td>Science</td>\n",
              "      <td>65.60</td>\n",
              "      <td>Sci&amp;Tech</td>\n",
              "      <td>No</td>\n",
              "      <td>58.00</td>\n",
              "      <td>Mkt&amp;HR</td>\n",
              "      <td>55.47</td>\n",
              "      <td>320000.0</td>\n",
              "    </tr>\n",
              "    <tr>\n",
              "      <th>10</th>\n",
              "      <td>Placed</td>\n",
              "      <td>M</td>\n",
              "      <td>61.0</td>\n",
              "      <td>Others</td>\n",
              "      <td>62.0</td>\n",
              "      <td>Others</td>\n",
              "      <td>Commerce</td>\n",
              "      <td>65.00</td>\n",
              "      <td>Comm&amp;Mgmt</td>\n",
              "      <td>No</td>\n",
              "      <td>62.00</td>\n",
              "      <td>Mkt&amp;Fin</td>\n",
              "      <td>56.81</td>\n",
              "      <td>250000.0</td>\n",
              "    </tr>\n",
              "    <tr>\n",
              "      <th>11</th>\n",
              "      <td>Placed</td>\n",
              "      <td>M</td>\n",
              "      <td>65.2</td>\n",
              "      <td>Central</td>\n",
              "      <td>61.4</td>\n",
              "      <td>Central</td>\n",
              "      <td>Commerce</td>\n",
              "      <td>64.80</td>\n",
              "      <td>Comm&amp;Mgmt</td>\n",
              "      <td>Yes</td>\n",
              "      <td>93.40</td>\n",
              "      <td>Mkt&amp;Fin</td>\n",
              "      <td>57.34</td>\n",
              "      <td>270000.0</td>\n",
              "    </tr>\n",
              "    <tr>\n",
              "      <th>12</th>\n",
              "      <td>Placed</td>\n",
              "      <td>M</td>\n",
              "      <td>58.0</td>\n",
              "      <td>Central</td>\n",
              "      <td>61.0</td>\n",
              "      <td>Central</td>\n",
              "      <td>Commerce</td>\n",
              "      <td>60.00</td>\n",
              "      <td>Comm&amp;Mgmt</td>\n",
              "      <td>Yes</td>\n",
              "      <td>62.00</td>\n",
              "      <td>Mkt&amp;HR</td>\n",
              "      <td>60.85</td>\n",
              "      <td>260000.0</td>\n",
              "    </tr>\n",
              "    <tr>\n",
              "      <th>13</th>\n",
              "      <td>Not Placed</td>\n",
              "      <td>F</td>\n",
              "      <td>64.0</td>\n",
              "      <td>Others</td>\n",
              "      <td>70.2</td>\n",
              "      <td>Central</td>\n",
              "      <td>Commerce</td>\n",
              "      <td>61.00</td>\n",
              "      <td>Comm&amp;Mgmt</td>\n",
              "      <td>No</td>\n",
              "      <td>50.00</td>\n",
              "      <td>Mkt&amp;Fin</td>\n",
              "      <td>62.50</td>\n",
              "      <td>NaN</td>\n",
              "    </tr>\n",
              "    <tr>\n",
              "      <th>14</th>\n",
              "      <td>Placed</td>\n",
              "      <td>F</td>\n",
              "      <td>61.0</td>\n",
              "      <td>Central</td>\n",
              "      <td>81.0</td>\n",
              "      <td>Central</td>\n",
              "      <td>Commerce</td>\n",
              "      <td>66.40</td>\n",
              "      <td>Comm&amp;Mgmt</td>\n",
              "      <td>No</td>\n",
              "      <td>50.89</td>\n",
              "      <td>Mkt&amp;HR</td>\n",
              "      <td>62.21</td>\n",
              "      <td>278000.0</td>\n",
              "    </tr>\n",
              "  </tbody>\n",
              "</table>\n",
              "</div>"
            ],
            "text/plain": [
              "        status gender  ssc_p    ssc_b  ...  etest_p specialisation  mba_p    salary\n",
              "0   Not Placed      M   55.6   Others  ...    57.63         Mkt&HR  62.72       NaN\n",
              "1   Not Placed      M   61.8   Others  ...    57.00        Mkt&Fin  56.13       NaN\n",
              "2   Not Placed      M   44.0  Central  ...    64.25         Mkt&HR  58.54       NaN\n",
              "3       Placed      F   77.0   Others  ...    89.00        Mkt&Fin  69.70  200000.0\n",
              "4       Placed      M   65.0  Central  ...    83.00        Mkt&Fin  58.87  270000.0\n",
              "5       Placed      F   85.0   Others  ...    92.00        Mkt&Fin  68.03  300000.0\n",
              "6       Placed      M   84.0   Others  ...    84.00        Mkt&Fin  66.69  300000.0\n",
              "7       Placed      F   73.0  Central  ...    89.00        Mkt&Fin  70.81  650000.0\n",
              "8       Placed      M   62.0  Central  ...    67.00        Mkt&Fin  56.49  216000.0\n",
              "9       Placed      F   79.0  Central  ...    58.00         Mkt&HR  55.47  320000.0\n",
              "10      Placed      M   61.0   Others  ...    62.00        Mkt&Fin  56.81  250000.0\n",
              "11      Placed      M   65.2  Central  ...    93.40        Mkt&Fin  57.34  270000.0\n",
              "12      Placed      M   58.0  Central  ...    62.00         Mkt&HR  60.85  260000.0\n",
              "13  Not Placed      F   64.0   Others  ...    50.00        Mkt&Fin  62.50       NaN\n",
              "14      Placed      F   61.0  Central  ...    50.89         Mkt&HR  62.21  278000.0\n",
              "\n",
              "[15 rows x 14 columns]"
            ]
          },
          "metadata": {
            "tags": []
          },
          "execution_count": 138
        }
      ]
    },
    {
      "cell_type": "code",
      "metadata": {
        "colab": {
          "base_uri": "https://localhost:8080/",
          "height": 204
        },
        "id": "Ysym26AOahfc",
        "outputId": "e6ad2d57-4051-4bd6-fa91-55beac38938c"
      },
      "source": [
        "test_df.head()"
      ],
      "execution_count": 68,
      "outputs": [
        {
          "output_type": "execute_result",
          "data": {
            "text/html": [
              "<div>\n",
              "<style scoped>\n",
              "    .dataframe tbody tr th:only-of-type {\n",
              "        vertical-align: middle;\n",
              "    }\n",
              "\n",
              "    .dataframe tbody tr th {\n",
              "        vertical-align: top;\n",
              "    }\n",
              "\n",
              "    .dataframe thead th {\n",
              "        text-align: right;\n",
              "    }\n",
              "</style>\n",
              "<table border=\"1\" class=\"dataframe\">\n",
              "  <thead>\n",
              "    <tr style=\"text-align: right;\">\n",
              "      <th></th>\n",
              "      <th>status</th>\n",
              "      <th>gender</th>\n",
              "      <th>ssc_p</th>\n",
              "      <th>ssc_b</th>\n",
              "      <th>hsc_p</th>\n",
              "      <th>hsc_b</th>\n",
              "      <th>hsc_s</th>\n",
              "      <th>degree_p</th>\n",
              "      <th>degree_t</th>\n",
              "      <th>workex</th>\n",
              "      <th>etest_p</th>\n",
              "      <th>specialisation</th>\n",
              "      <th>mba_p</th>\n",
              "      <th>salary</th>\n",
              "    </tr>\n",
              "  </thead>\n",
              "  <tbody>\n",
              "    <tr>\n",
              "      <th>0</th>\n",
              "      <td>Placed</td>\n",
              "      <td>M</td>\n",
              "      <td>71.0</td>\n",
              "      <td>Others</td>\n",
              "      <td>79.0</td>\n",
              "      <td>Others</td>\n",
              "      <td>Commerce</td>\n",
              "      <td>66.0</td>\n",
              "      <td>Comm&amp;Mgmt</td>\n",
              "      <td>Yes</td>\n",
              "      <td>94.00</td>\n",
              "      <td>Mkt&amp;Fin</td>\n",
              "      <td>57.55</td>\n",
              "      <td>240000.0</td>\n",
              "    </tr>\n",
              "    <tr>\n",
              "      <th>1</th>\n",
              "      <td>Placed</td>\n",
              "      <td>F</td>\n",
              "      <td>69.0</td>\n",
              "      <td>Central</td>\n",
              "      <td>78.0</td>\n",
              "      <td>Central</td>\n",
              "      <td>Commerce</td>\n",
              "      <td>72.0</td>\n",
              "      <td>Comm&amp;Mgmt</td>\n",
              "      <td>No</td>\n",
              "      <td>71.00</td>\n",
              "      <td>Mkt&amp;HR</td>\n",
              "      <td>62.74</td>\n",
              "      <td>300000.0</td>\n",
              "    </tr>\n",
              "    <tr>\n",
              "      <th>2</th>\n",
              "      <td>Placed</td>\n",
              "      <td>F</td>\n",
              "      <td>79.0</td>\n",
              "      <td>Others</td>\n",
              "      <td>61.0</td>\n",
              "      <td>Others</td>\n",
              "      <td>Science</td>\n",
              "      <td>75.5</td>\n",
              "      <td>Sci&amp;Tech</td>\n",
              "      <td>Yes</td>\n",
              "      <td>70.00</td>\n",
              "      <td>Mkt&amp;Fin</td>\n",
              "      <td>68.20</td>\n",
              "      <td>210000.0</td>\n",
              "    </tr>\n",
              "    <tr>\n",
              "      <th>3</th>\n",
              "      <td>Placed</td>\n",
              "      <td>M</td>\n",
              "      <td>82.0</td>\n",
              "      <td>Others</td>\n",
              "      <td>90.0</td>\n",
              "      <td>Others</td>\n",
              "      <td>Commerce</td>\n",
              "      <td>83.0</td>\n",
              "      <td>Comm&amp;Mgmt</td>\n",
              "      <td>No</td>\n",
              "      <td>80.00</td>\n",
              "      <td>Mkt&amp;HR</td>\n",
              "      <td>73.52</td>\n",
              "      <td>200000.0</td>\n",
              "    </tr>\n",
              "    <tr>\n",
              "      <th>4</th>\n",
              "      <td>Not Placed</td>\n",
              "      <td>F</td>\n",
              "      <td>46.0</td>\n",
              "      <td>Others</td>\n",
              "      <td>49.2</td>\n",
              "      <td>Others</td>\n",
              "      <td>Commerce</td>\n",
              "      <td>79.0</td>\n",
              "      <td>Comm&amp;Mgmt</td>\n",
              "      <td>No</td>\n",
              "      <td>74.28</td>\n",
              "      <td>Mkt&amp;Fin</td>\n",
              "      <td>53.29</td>\n",
              "      <td>NaN</td>\n",
              "    </tr>\n",
              "  </tbody>\n",
              "</table>\n",
              "</div>"
            ],
            "text/plain": [
              "       status gender  ssc_p    ssc_b  ...  etest_p specialisation  mba_p    salary\n",
              "0      Placed      M   71.0   Others  ...    94.00        Mkt&Fin  57.55  240000.0\n",
              "1      Placed      F   69.0  Central  ...    71.00         Mkt&HR  62.74  300000.0\n",
              "2      Placed      F   79.0   Others  ...    70.00        Mkt&Fin  68.20  210000.0\n",
              "3      Placed      M   82.0   Others  ...    80.00         Mkt&HR  73.52  200000.0\n",
              "4  Not Placed      F   46.0   Others  ...    74.28        Mkt&Fin  53.29       NaN\n",
              "\n",
              "[5 rows x 14 columns]"
            ]
          },
          "metadata": {
            "tags": []
          },
          "execution_count": 68
        }
      ]
    },
    {
      "cell_type": "markdown",
      "metadata": {
        "id": "TcepilXiO-8q"
      },
      "source": [
        "Sono presenti valori nulli solo nella colonna Salary"
      ]
    },
    {
      "cell_type": "code",
      "metadata": {
        "colab": {
          "base_uri": "https://localhost:8080/"
        },
        "id": "zrWHmF8EkLyf",
        "outputId": "b36bc8c9-e511-4fae-f87f-f64b9c48182e"
      },
      "source": [
        "train_df.info()"
      ],
      "execution_count": 69,
      "outputs": [
        {
          "output_type": "stream",
          "text": [
            "<class 'pandas.core.frame.DataFrame'>\n",
            "RangeIndex: 137 entries, 0 to 136\n",
            "Data columns (total 14 columns):\n",
            " #   Column          Non-Null Count  Dtype  \n",
            "---  ------          --------------  -----  \n",
            " 0   status          137 non-null    object \n",
            " 1   gender          137 non-null    object \n",
            " 2   ssc_p           137 non-null    float64\n",
            " 3   ssc_b           137 non-null    object \n",
            " 4   hsc_p           137 non-null    float64\n",
            " 5   hsc_b           137 non-null    object \n",
            " 6   hsc_s           137 non-null    object \n",
            " 7   degree_p        137 non-null    float64\n",
            " 8   degree_t        137 non-null    object \n",
            " 9   workex          137 non-null    object \n",
            " 10  etest_p         137 non-null    float64\n",
            " 11  specialisation  137 non-null    object \n",
            " 12  mba_p           137 non-null    float64\n",
            " 13  salary          89 non-null     float64\n",
            "dtypes: float64(6), object(8)\n",
            "memory usage: 15.1+ KB\n"
          ],
          "name": "stdout"
        }
      ]
    },
    {
      "cell_type": "code",
      "metadata": {
        "colab": {
          "base_uri": "https://localhost:8080/",
          "height": 333
        },
        "id": "tkTk0vpukM1d",
        "outputId": "ae8b7df3-487c-4837-ba42-9c2efc883318"
      },
      "source": [
        "plt.hist(train_df.salary)"
      ],
      "execution_count": 70,
      "outputs": [
        {
          "output_type": "execute_result",
          "data": {
            "text/plain": [
              "(array([50., 21., 11.,  2.,  3.,  0.,  1.,  0.,  0.,  1.]),\n",
              " array([200000., 274000., 348000., 422000., 496000., 570000., 644000.,\n",
              "        718000., 792000., 866000., 940000.]),\n",
              " <a list of 10 Patch objects>)"
            ]
          },
          "metadata": {
            "tags": []
          },
          "execution_count": 70
        },
        {
          "output_type": "display_data",
          "data": {
            "image/png": "[encoded data removed]",
            "text/plain": [
              "<Figure size 432x288 with 1 Axes>"
            ]
          },
          "metadata": {
            "tags": [],
            "needs_background": "light"
          }
        }
      ]
    },
    {
      "cell_type": "code",
      "metadata": {
        "colab": {
          "base_uri": "https://localhost:8080/"
        },
        "id": "k_eZ03CKPT8Z",
        "outputId": "24ff272c-e1ae-4039-d742-9551e2caaf90"
      },
      "source": [
        "train_df.loc[train_df['status']=='Not Placed','salary'].unique()"
      ],
      "execution_count": 139,
      "outputs": [
        {
          "output_type": "execute_result",
          "data": {
            "text/plain": [
              "array([nan])"
            ]
          },
          "metadata": {
            "tags": []
          },
          "execution_count": 139
        }
      ]
    },
    {
      "cell_type": "code",
      "metadata": {
        "colab": {
          "base_uri": "https://localhost:8080/"
        },
        "id": "cAJwk5C0QAfx",
        "outputId": "aca57f45-57fe-4a3f-e7be-90a954ee9814"
      },
      "source": [
        "train_df.loc[train_df['status']=='Placed','salary'].isna().sum()"
      ],
      "execution_count": 74,
      "outputs": [
        {
          "output_type": "execute_result",
          "data": {
            "text/plain": [
              "0"
            ]
          },
          "metadata": {
            "tags": []
          },
          "execution_count": 74
        }
      ]
    },
    {
      "cell_type": "markdown",
      "metadata": {
        "id": "Ftx6yp6-P-fC"
      },
      "source": [
        "La colonna status e la colonna salary sono rappresentative della stessa informazione quindi per tutte le persone non impiegate il valore salary risulta NaN. Con ciò procedo solo con l'obiettivo di generare un classificatore, ignorando la colonna salary che ipotizzo potrebbe essere utilizzata come target di una regressione."
      ]
    },
    {
      "cell_type": "code",
      "metadata": {
        "id": "B7iwCUoaSBBC"
      },
      "source": [
        "train_df=train_df.drop('salary',axis=1)\n",
        "test_df=test_df.drop('salary',axis=1)"
      ],
      "execution_count": 75,
      "outputs": []
    },
    {
      "cell_type": "markdown",
      "metadata": {
        "id": "YjEtSFWPPeAy"
      },
      "source": [
        "# Variabili Categoriche\n",
        "\n",
        "Cerco di capire se qualche variabile categorica non influenzano in modo significativo l'output\n"
      ]
    },
    {
      "cell_type": "code",
      "metadata": {
        "colab": {
          "base_uri": "https://localhost:8080/",
          "height": 351
        },
        "id": "VviAkgsiKzaT",
        "outputId": "a651cf63-063c-4e81-fa21-4f340bbf4217"
      },
      "source": [
        "sns.countplot(\"ssc_b\", hue=\"status\", data=train_df)"
      ],
      "execution_count": 76,
      "outputs": [
        {
          "output_type": "stream",
          "text": [
            "/usr/local/lib/python3.7/dist-packages/seaborn/_decorators.py:43: FutureWarning: Pass the following variable as a keyword arg: x. From version 0.12, the only valid positional argument will be `data`, and passing other arguments without an explicit keyword will result in an error or misinterpretation.\n",
            "  FutureWarning\n"
          ],
          "name": "stderr"
        },
        {
          "output_type": "execute_result",
          "data": {
            "text/plain": [
              "<matplotlib.axes._subplots.AxesSubplot at 0x7f0d3807a5d0>"
            ]
          },
          "metadata": {
            "tags": []
          },
          "execution_count": 76
        },
        {
          "output_type": "display_data",
          "data": {
            "image/png": "[encoded data removed]",
            "text/plain": [
              "<Figure size 432x288 with 1 Axes>"
            ]
          },
          "metadata": {
            "tags": [],
            "needs_background": "light"
          }
        }
      ]
    },
    {
      "cell_type": "code",
      "metadata": {
        "colab": {
          "base_uri": "https://localhost:8080/",
          "height": 351
        },
        "id": "UdUoEeKGO586",
        "outputId": "45f82438-2777-4203-972f-ca7cd854d278"
      },
      "source": [
        "sns.countplot(\"hsc_b\", hue=\"status\", data=train_df)"
      ],
      "execution_count": 77,
      "outputs": [
        {
          "output_type": "stream",
          "text": [
            "/usr/local/lib/python3.7/dist-packages/seaborn/_decorators.py:43: FutureWarning: Pass the following variable as a keyword arg: x. From version 0.12, the only valid positional argument will be `data`, and passing other arguments without an explicit keyword will result in an error or misinterpretation.\n",
            "  FutureWarning\n"
          ],
          "name": "stderr"
        },
        {
          "output_type": "execute_result",
          "data": {
            "text/plain": [
              "<matplotlib.axes._subplots.AxesSubplot at 0x7f0d38050090>"
            ]
          },
          "metadata": {
            "tags": []
          },
          "execution_count": 77
        },
        {
          "output_type": "display_data",
          "data": {
            "image/png": "[encoded data removed]",
            "text/plain": [
              "<Figure size 432x288 with 1 Axes>"
            ]
          },
          "metadata": {
            "tags": [],
            "needs_background": "light"
          }
        }
      ]
    },
    {
      "cell_type": "code",
      "metadata": {
        "colab": {
          "base_uri": "https://localhost:8080/",
          "height": 354
        },
        "id": "cYyri_e5PN81",
        "outputId": "9336ee7f-3dfc-4c79-db83-ab2170a6f4f6"
      },
      "source": [
        "sns.countplot(\"hsc_s\", hue=\"status\", data=train_df)"
      ],
      "execution_count": 78,
      "outputs": [
        {
          "output_type": "stream",
          "text": [
            "/usr/local/lib/python3.7/dist-packages/seaborn/_decorators.py:43: FutureWarning: Pass the following variable as a keyword arg: x. From version 0.12, the only valid positional argument will be `data`, and passing other arguments without an explicit keyword will result in an error or misinterpretation.\n",
            "  FutureWarning\n"
          ],
          "name": "stderr"
        },
        {
          "output_type": "execute_result",
          "data": {
            "text/plain": [
              "<matplotlib.axes._subplots.AxesSubplot at 0x7f0d37fa58d0>"
            ]
          },
          "metadata": {
            "tags": []
          },
          "execution_count": 78
        },
        {
          "output_type": "display_data",
          "data": {
            "image/png": "[encoded data removed]",
            "text/plain": [
              "<Figure size 432x288 with 1 Axes>"
            ]
          },
          "metadata": {
            "tags": [],
            "needs_background": "light"
          }
        }
      ]
    },
    {
      "cell_type": "code",
      "metadata": {
        "colab": {
          "base_uri": "https://localhost:8080/",
          "height": 350
        },
        "id": "qRrWCOjOLLeQ",
        "outputId": "4047c225-13f2-4847-d453-4123a1340014"
      },
      "source": [
        "sns.countplot(\"gender\", hue=\"status\", data=train_df)"
      ],
      "execution_count": 79,
      "outputs": [
        {
          "output_type": "stream",
          "text": [
            "/usr/local/lib/python3.7/dist-packages/seaborn/_decorators.py:43: FutureWarning: Pass the following variable as a keyword arg: x. From version 0.12, the only valid positional argument will be `data`, and passing other arguments without an explicit keyword will result in an error or misinterpretation.\n",
            "  FutureWarning\n"
          ],
          "name": "stderr"
        },
        {
          "output_type": "execute_result",
          "data": {
            "text/plain": [
              "<matplotlib.axes._subplots.AxesSubplot at 0x7f0d37faccd0>"
            ]
          },
          "metadata": {
            "tags": []
          },
          "execution_count": 79
        },
        {
          "output_type": "display_data",
          "data": {
            "image/png": "[encoded data removed]",
            "text/plain": [
              "<Figure size 432x288 with 1 Axes>"
            ]
          },
          "metadata": {
            "tags": [],
            "needs_background": "light"
          }
        }
      ]
    },
    {
      "cell_type": "code",
      "metadata": {
        "colab": {
          "base_uri": "https://localhost:8080/",
          "height": 350
        },
        "id": "_ecRr6AoOw8s",
        "outputId": "3c5d2cd5-158e-433d-d3c0-6e701b9b9d44"
      },
      "source": [
        "sns.countplot(\"workex\", hue=\"status\", data=train_df)"
      ],
      "execution_count": 80,
      "outputs": [
        {
          "output_type": "stream",
          "text": [
            "/usr/local/lib/python3.7/dist-packages/seaborn/_decorators.py:43: FutureWarning: Pass the following variable as a keyword arg: x. From version 0.12, the only valid positional argument will be `data`, and passing other arguments without an explicit keyword will result in an error or misinterpretation.\n",
            "  FutureWarning\n"
          ],
          "name": "stderr"
        },
        {
          "output_type": "execute_result",
          "data": {
            "text/plain": [
              "<matplotlib.axes._subplots.AxesSubplot at 0x7f0d37e99bd0>"
            ]
          },
          "metadata": {
            "tags": []
          },
          "execution_count": 80
        },
        {
          "output_type": "display_data",
          "data": {
            "image/png": "[encoded data removed]",
            "text/plain": [
              "<Figure size 432x288 with 1 Axes>"
            ]
          },
          "metadata": {
            "tags": [],
            "needs_background": "light"
          }
        }
      ]
    },
    {
      "cell_type": "code",
      "metadata": {
        "colab": {
          "base_uri": "https://localhost:8080/",
          "height": 351
        },
        "id": "HPsyum42Q8jp",
        "outputId": "a7c620ab-7cf3-4c10-8247-4406330337e8"
      },
      "source": [
        "sns.countplot(\"degree_t\", hue=\"status\", data=train_df)"
      ],
      "execution_count": 81,
      "outputs": [
        {
          "output_type": "stream",
          "text": [
            "/usr/local/lib/python3.7/dist-packages/seaborn/_decorators.py:43: FutureWarning: Pass the following variable as a keyword arg: x. From version 0.12, the only valid positional argument will be `data`, and passing other arguments without an explicit keyword will result in an error or misinterpretation.\n",
            "  FutureWarning\n"
          ],
          "name": "stderr"
        },
        {
          "output_type": "execute_result",
          "data": {
            "text/plain": [
              "<matplotlib.axes._subplots.AxesSubplot at 0x7f0d37e85490>"
            ]
          },
          "metadata": {
            "tags": []
          },
          "execution_count": 81
        },
        {
          "output_type": "display_data",
          "data": {
            "image/png": "[encoded data removed]",
            "text/plain": [
              "<Figure size 432x288 with 1 Axes>"
            ]
          },
          "metadata": {
            "tags": [],
            "needs_background": "light"
          }
        }
      ]
    },
    {
      "cell_type": "code",
      "metadata": {
        "colab": {
          "base_uri": "https://localhost:8080/",
          "height": 350
        },
        "id": "Cg1ihqEVRA4F",
        "outputId": "85761091-b397-4031-b5e3-a50a3d992ecd"
      },
      "source": [
        "sns.countplot(\"specialisation\", hue=\"status\", data=train_df)"
      ],
      "execution_count": 82,
      "outputs": [
        {
          "output_type": "stream",
          "text": [
            "/usr/local/lib/python3.7/dist-packages/seaborn/_decorators.py:43: FutureWarning: Pass the following variable as a keyword arg: x. From version 0.12, the only valid positional argument will be `data`, and passing other arguments without an explicit keyword will result in an error or misinterpretation.\n",
            "  FutureWarning\n"
          ],
          "name": "stderr"
        },
        {
          "output_type": "execute_result",
          "data": {
            "text/plain": [
              "<matplotlib.axes._subplots.AxesSubplot at 0x7f0d37df7e50>"
            ]
          },
          "metadata": {
            "tags": []
          },
          "execution_count": 82
        },
        {
          "output_type": "display_data",
          "data": {
            "image/png": "[encoded data removed]",
            "text/plain": [
              "<Figure size 432x288 with 1 Axes>"
            ]
          },
          "metadata": {
            "tags": [],
            "needs_background": "light"
          }
        }
      ]
    },
    {
      "cell_type": "markdown",
      "metadata": {
        "id": "IhaZ6PPSRLf4"
      },
      "source": [
        "Osservano i grafici le uniche variabili che sembrerebbero non influenzare con l'output sono quelle relativa alla commissione d'esame. Quindi procendo con il drop delle due colonne."
      ]
    },
    {
      "cell_type": "code",
      "metadata": {
        "id": "BJmXXJjBRtE8"
      },
      "source": [
        "train_df=train_df.drop(['hsc_b','ssc_b'],axis=1)\n",
        "test_df=test_df.drop(['hsc_b','ssc_b'],axis=1)"
      ],
      "execution_count": 83,
      "outputs": []
    },
    {
      "cell_type": "code",
      "metadata": {
        "colab": {
          "base_uri": "https://localhost:8080/",
          "height": 204
        },
        "id": "EfnppdEqR7eJ",
        "outputId": "7c2c46ea-d030-490f-fddb-50bf660611ae"
      },
      "source": [
        "train_df.head()"
      ],
      "execution_count": 85,
      "outputs": [
        {
          "output_type": "execute_result",
          "data": {
            "text/html": [
              "<div>\n",
              "<style scoped>\n",
              "    .dataframe tbody tr th:only-of-type {\n",
              "        vertical-align: middle;\n",
              "    }\n",
              "\n",
              "    .dataframe tbody tr th {\n",
              "        vertical-align: top;\n",
              "    }\n",
              "\n",
              "    .dataframe thead th {\n",
              "        text-align: right;\n",
              "    }\n",
              "</style>\n",
              "<table border=\"1\" class=\"dataframe\">\n",
              "  <thead>\n",
              "    <tr style=\"text-align: right;\">\n",
              "      <th></th>\n",
              "      <th>status</th>\n",
              "      <th>gender</th>\n",
              "      <th>ssc_p</th>\n",
              "      <th>hsc_p</th>\n",
              "      <th>hsc_s</th>\n",
              "      <th>degree_p</th>\n",
              "      <th>degree_t</th>\n",
              "      <th>workex</th>\n",
              "      <th>etest_p</th>\n",
              "      <th>specialisation</th>\n",
              "      <th>mba_p</th>\n",
              "    </tr>\n",
              "  </thead>\n",
              "  <tbody>\n",
              "    <tr>\n",
              "      <th>0</th>\n",
              "      <td>Not Placed</td>\n",
              "      <td>M</td>\n",
              "      <td>55.6</td>\n",
              "      <td>51.0</td>\n",
              "      <td>Commerce</td>\n",
              "      <td>57.50</td>\n",
              "      <td>Comm&amp;Mgmt</td>\n",
              "      <td>No</td>\n",
              "      <td>57.63</td>\n",
              "      <td>Mkt&amp;HR</td>\n",
              "      <td>62.72</td>\n",
              "    </tr>\n",
              "    <tr>\n",
              "      <th>1</th>\n",
              "      <td>Not Placed</td>\n",
              "      <td>M</td>\n",
              "      <td>61.8</td>\n",
              "      <td>47.0</td>\n",
              "      <td>Commerce</td>\n",
              "      <td>54.38</td>\n",
              "      <td>Comm&amp;Mgmt</td>\n",
              "      <td>No</td>\n",
              "      <td>57.00</td>\n",
              "      <td>Mkt&amp;Fin</td>\n",
              "      <td>56.13</td>\n",
              "    </tr>\n",
              "    <tr>\n",
              "      <th>2</th>\n",
              "      <td>Not Placed</td>\n",
              "      <td>M</td>\n",
              "      <td>44.0</td>\n",
              "      <td>58.0</td>\n",
              "      <td>Arts</td>\n",
              "      <td>55.00</td>\n",
              "      <td>Comm&amp;Mgmt</td>\n",
              "      <td>Yes</td>\n",
              "      <td>64.25</td>\n",
              "      <td>Mkt&amp;HR</td>\n",
              "      <td>58.54</td>\n",
              "    </tr>\n",
              "    <tr>\n",
              "      <th>3</th>\n",
              "      <td>Placed</td>\n",
              "      <td>F</td>\n",
              "      <td>77.0</td>\n",
              "      <td>73.0</td>\n",
              "      <td>Commerce</td>\n",
              "      <td>81.00</td>\n",
              "      <td>Comm&amp;Mgmt</td>\n",
              "      <td>Yes</td>\n",
              "      <td>89.00</td>\n",
              "      <td>Mkt&amp;Fin</td>\n",
              "      <td>69.70</td>\n",
              "    </tr>\n",
              "    <tr>\n",
              "      <th>4</th>\n",
              "      <td>Placed</td>\n",
              "      <td>M</td>\n",
              "      <td>65.0</td>\n",
              "      <td>65.0</td>\n",
              "      <td>Commerce</td>\n",
              "      <td>75.00</td>\n",
              "      <td>Comm&amp;Mgmt</td>\n",
              "      <td>No</td>\n",
              "      <td>83.00</td>\n",
              "      <td>Mkt&amp;Fin</td>\n",
              "      <td>58.87</td>\n",
              "    </tr>\n",
              "  </tbody>\n",
              "</table>\n",
              "</div>"
            ],
            "text/plain": [
              "       status gender  ssc_p  hsc_p  ... workex  etest_p specialisation  mba_p\n",
              "0  Not Placed      M   55.6   51.0  ...     No    57.63         Mkt&HR  62.72\n",
              "1  Not Placed      M   61.8   47.0  ...     No    57.00        Mkt&Fin  56.13\n",
              "2  Not Placed      M   44.0   58.0  ...    Yes    64.25         Mkt&HR  58.54\n",
              "3      Placed      F   77.0   73.0  ...    Yes    89.00        Mkt&Fin  69.70\n",
              "4      Placed      M   65.0   65.0  ...     No    83.00        Mkt&Fin  58.87\n",
              "\n",
              "[5 rows x 11 columns]"
            ]
          },
          "metadata": {
            "tags": []
          },
          "execution_count": 85
        }
      ]
    },
    {
      "cell_type": "code",
      "metadata": {
        "colab": {
          "base_uri": "https://localhost:8080/",
          "height": 204
        },
        "id": "tHDx8zLobY2x",
        "outputId": "1d25d58a-4e2d-494f-d563-b72187729c5f"
      },
      "source": [
        "test_df.head()"
      ],
      "execution_count": 86,
      "outputs": [
        {
          "output_type": "execute_result",
          "data": {
            "text/html": [
              "<div>\n",
              "<style scoped>\n",
              "    .dataframe tbody tr th:only-of-type {\n",
              "        vertical-align: middle;\n",
              "    }\n",
              "\n",
              "    .dataframe tbody tr th {\n",
              "        vertical-align: top;\n",
              "    }\n",
              "\n",
              "    .dataframe thead th {\n",
              "        text-align: right;\n",
              "    }\n",
              "</style>\n",
              "<table border=\"1\" class=\"dataframe\">\n",
              "  <thead>\n",
              "    <tr style=\"text-align: right;\">\n",
              "      <th></th>\n",
              "      <th>status</th>\n",
              "      <th>gender</th>\n",
              "      <th>ssc_p</th>\n",
              "      <th>hsc_p</th>\n",
              "      <th>hsc_s</th>\n",
              "      <th>degree_p</th>\n",
              "      <th>degree_t</th>\n",
              "      <th>workex</th>\n",
              "      <th>etest_p</th>\n",
              "      <th>specialisation</th>\n",
              "      <th>mba_p</th>\n",
              "    </tr>\n",
              "  </thead>\n",
              "  <tbody>\n",
              "    <tr>\n",
              "      <th>0</th>\n",
              "      <td>Placed</td>\n",
              "      <td>M</td>\n",
              "      <td>71.0</td>\n",
              "      <td>79.0</td>\n",
              "      <td>Commerce</td>\n",
              "      <td>66.0</td>\n",
              "      <td>Comm&amp;Mgmt</td>\n",
              "      <td>Yes</td>\n",
              "      <td>94.00</td>\n",
              "      <td>Mkt&amp;Fin</td>\n",
              "      <td>57.55</td>\n",
              "    </tr>\n",
              "    <tr>\n",
              "      <th>1</th>\n",
              "      <td>Placed</td>\n",
              "      <td>F</td>\n",
              "      <td>69.0</td>\n",
              "      <td>78.0</td>\n",
              "      <td>Commerce</td>\n",
              "      <td>72.0</td>\n",
              "      <td>Comm&amp;Mgmt</td>\n",
              "      <td>No</td>\n",
              "      <td>71.00</td>\n",
              "      <td>Mkt&amp;HR</td>\n",
              "      <td>62.74</td>\n",
              "    </tr>\n",
              "    <tr>\n",
              "      <th>2</th>\n",
              "      <td>Placed</td>\n",
              "      <td>F</td>\n",
              "      <td>79.0</td>\n",
              "      <td>61.0</td>\n",
              "      <td>Science</td>\n",
              "      <td>75.5</td>\n",
              "      <td>Sci&amp;Tech</td>\n",
              "      <td>Yes</td>\n",
              "      <td>70.00</td>\n",
              "      <td>Mkt&amp;Fin</td>\n",
              "      <td>68.20</td>\n",
              "    </tr>\n",
              "    <tr>\n",
              "      <th>3</th>\n",
              "      <td>Placed</td>\n",
              "      <td>M</td>\n",
              "      <td>82.0</td>\n",
              "      <td>90.0</td>\n",
              "      <td>Commerce</td>\n",
              "      <td>83.0</td>\n",
              "      <td>Comm&amp;Mgmt</td>\n",
              "      <td>No</td>\n",
              "      <td>80.00</td>\n",
              "      <td>Mkt&amp;HR</td>\n",
              "      <td>73.52</td>\n",
              "    </tr>\n",
              "    <tr>\n",
              "      <th>4</th>\n",
              "      <td>Not Placed</td>\n",
              "      <td>F</td>\n",
              "      <td>46.0</td>\n",
              "      <td>49.2</td>\n",
              "      <td>Commerce</td>\n",
              "      <td>79.0</td>\n",
              "      <td>Comm&amp;Mgmt</td>\n",
              "      <td>No</td>\n",
              "      <td>74.28</td>\n",
              "      <td>Mkt&amp;Fin</td>\n",
              "      <td>53.29</td>\n",
              "    </tr>\n",
              "  </tbody>\n",
              "</table>\n",
              "</div>"
            ],
            "text/plain": [
              "       status gender  ssc_p  hsc_p  ... workex  etest_p specialisation  mba_p\n",
              "0      Placed      M   71.0   79.0  ...    Yes    94.00        Mkt&Fin  57.55\n",
              "1      Placed      F   69.0   78.0  ...     No    71.00         Mkt&HR  62.74\n",
              "2      Placed      F   79.0   61.0  ...    Yes    70.00        Mkt&Fin  68.20\n",
              "3      Placed      M   82.0   90.0  ...     No    80.00         Mkt&HR  73.52\n",
              "4  Not Placed      F   46.0   49.2  ...     No    74.28        Mkt&Fin  53.29\n",
              "\n",
              "[5 rows x 11 columns]"
            ]
          },
          "metadata": {
            "tags": []
          },
          "execution_count": 86
        }
      ]
    },
    {
      "cell_type": "markdown",
      "metadata": {
        "id": "6xaAinOHSXT4"
      },
      "source": [
        "# Variabili Numeriche\n",
        "Procedo quindi controllando le variabili numeriche"
      ]
    },
    {
      "cell_type": "code",
      "metadata": {
        "colab": {
          "base_uri": "https://localhost:8080/",
          "height": 386
        },
        "id": "aTb_yB54S5MK",
        "outputId": "31c5a5a4-52fb-487c-a401-bab9ece5f81a"
      },
      "source": [
        "sns.displot(train_df,x='ssc_p',hue='status',bins=7)"
      ],
      "execution_count": 87,
      "outputs": [
        {
          "output_type": "execute_result",
          "data": {
            "text/plain": [
              "<seaborn.axisgrid.FacetGrid at 0x7f0d41b55790>"
            ]
          },
          "metadata": {
            "tags": []
          },
          "execution_count": 87
        },
        {
          "output_type": "display_data",
          "data": {
            "image/png": "[encoded data removed]",
            "text/plain": [
              "<Figure size 449.5x360 with 1 Axes>"
            ]
          },
          "metadata": {
            "tags": [],
            "needs_background": "light"
          }
        }
      ]
    },
    {
      "cell_type": "code",
      "metadata": {
        "colab": {
          "base_uri": "https://localhost:8080/",
          "height": 386
        },
        "id": "JUp2LFsDULSn",
        "outputId": "eb9d1780-3e2c-4571-db9d-8abff9f1fbc3"
      },
      "source": [
        "sns.displot(train_df,x='hsc_p',hue='status',bins=7)"
      ],
      "execution_count": 88,
      "outputs": [
        {
          "output_type": "execute_result",
          "data": {
            "text/plain": [
              "<seaborn.axisgrid.FacetGrid at 0x7f0d41bde190>"
            ]
          },
          "metadata": {
            "tags": []
          },
          "execution_count": 88
        },
        {
          "output_type": "display_data",
          "data": {
            "image/png": "[encoded data removed]",
            "text/plain": [
              "<Figure size 449.5x360 with 1 Axes>"
            ]
          },
          "metadata": {
            "tags": [],
            "needs_background": "light"
          }
        }
      ]
    },
    {
      "cell_type": "code",
      "metadata": {
        "colab": {
          "base_uri": "https://localhost:8080/",
          "height": 386
        },
        "id": "FZgZbq3lUQY7",
        "outputId": "b377f441-8840-4d8e-b917-28b00384627a"
      },
      "source": [
        "sns.displot(train_df,x='degree_p',hue='status',bins=7)"
      ],
      "execution_count": 89,
      "outputs": [
        {
          "output_type": "execute_result",
          "data": {
            "text/plain": [
              "<seaborn.axisgrid.FacetGrid at 0x7f0d41af1590>"
            ]
          },
          "metadata": {
            "tags": []
          },
          "execution_count": 89
        },
        {
          "output_type": "display_data",
          "data": {
            "image/png": "[encoded data removed]",
            "text/plain": [
              "<Figure size 449.5x360 with 1 Axes>"
            ]
          },
          "metadata": {
            "tags": [],
            "needs_background": "light"
          }
        }
      ]
    },
    {
      "cell_type": "code",
      "metadata": {
        "colab": {
          "base_uri": "https://localhost:8080/",
          "height": 386
        },
        "id": "CKWbf_46UUMY",
        "outputId": "940390b8-a057-4548-d15b-69b04bc47875"
      },
      "source": [
        "sns.displot(train_df,x='etest_p',hue='status',bins=7)"
      ],
      "execution_count": 90,
      "outputs": [
        {
          "output_type": "execute_result",
          "data": {
            "text/plain": [
              "<seaborn.axisgrid.FacetGrid at 0x7f0d37c583d0>"
            ]
          },
          "metadata": {
            "tags": []
          },
          "execution_count": 90
        },
        {
          "output_type": "display_data",
          "data": {
            "image/png": "[encoded data removed]",
            "text/plain": [
              "<Figure size 449.5x360 with 1 Axes>"
            ]
          },
          "metadata": {
            "tags": [],
            "needs_background": "light"
          }
        }
      ]
    },
    {
      "cell_type": "markdown",
      "metadata": {
        "id": "_Pi9FykEUx6Z"
      },
      "source": [
        "Osservando le distribuzioni di tutte le variabili numeriche in relazione alla variabile status l'unica che non ha una grande influenza sull'output è etest_p. Comunque potrebbe fornire qualche informazione, quindi non la elimino.Dalle altre variabili si evince che la maggior parte delle persone con dei voti alti tendono ad essere impiegate"
      ]
    },
    {
      "cell_type": "markdown",
      "metadata": {
        "id": "W_UB8OHaWRBN"
      },
      "source": [
        "# Preprocessing"
      ]
    },
    {
      "cell_type": "code",
      "metadata": {
        "colab": {
          "base_uri": "https://localhost:8080/"
        },
        "id": "zfJtqmn5YBnk",
        "outputId": "3f75e7fb-3185-4359-a219-25abdcb8e0f7"
      },
      "source": [
        "train_df.nunique()"
      ],
      "execution_count": 91,
      "outputs": [
        {
          "output_type": "execute_result",
          "data": {
            "text/plain": [
              "status              2\n",
              "gender              2\n",
              "ssc_p              79\n",
              "hsc_p              74\n",
              "hsc_s               3\n",
              "degree_p           71\n",
              "degree_t            3\n",
              "workex              2\n",
              "etest_p            74\n",
              "specialisation      2\n",
              "mba_p             136\n",
              "dtype: int64"
            ]
          },
          "metadata": {
            "tags": []
          },
          "execution_count": 91
        }
      ]
    },
    {
      "cell_type": "code",
      "metadata": {
        "id": "V36CYOKtXLiR"
      },
      "source": [
        "train_df[\"status\"] = train_df.status.map({\"Not Placed\":0, \"Placed\":1})\n",
        "train_df[\"workex\"] = train_df.workex.map({\"No\":0, \"Yes\":1})\n",
        "train_df[\"gender\"] = train_df.gender.map({\"M\":0,\"F\":1})\n",
        "train_df[\"specialisation\"] = train_df.specialisation.map({\"Mkt&HR\":0, \"Mkt&Fin\":1})\n",
        "test_df[\"status\"] = test_df.status.map({\"Not Placed\":0, \"Placed\":1})\n",
        "test_df[\"workex\"] = test_df.workex.map({\"No\":0, \"Yes\":1})\n",
        "test_df[\"gender\"] = test_df.gender.map({\"M\":0,\"F\":1})\n",
        "test_df[\"specialisation\"] = test_df.specialisation.map({\"Mkt&HR\":0, \"Mkt&Fin\":1})"
      ],
      "execution_count": 92,
      "outputs": []
    },
    {
      "cell_type": "code",
      "metadata": {
        "colab": {
          "base_uri": "https://localhost:8080/",
          "height": 204
        },
        "id": "2aNlsTd_YS79",
        "outputId": "3fe71892-6b44-436d-b43a-013a7f95595c"
      },
      "source": [
        "train_df.head()"
      ],
      "execution_count": 94,
      "outputs": [
        {
          "output_type": "execute_result",
          "data": {
            "text/html": [
              "<div>\n",
              "<style scoped>\n",
              "    .dataframe tbody tr th:only-of-type {\n",
              "        vertical-align: middle;\n",
              "    }\n",
              "\n",
              "    .dataframe tbody tr th {\n",
              "        vertical-align: top;\n",
              "    }\n",
              "\n",
              "    .dataframe thead th {\n",
              "        text-align: right;\n",
              "    }\n",
              "</style>\n",
              "<table border=\"1\" class=\"dataframe\">\n",
              "  <thead>\n",
              "    <tr style=\"text-align: right;\">\n",
              "      <th></th>\n",
              "      <th>status</th>\n",
              "      <th>gender</th>\n",
              "      <th>ssc_p</th>\n",
              "      <th>hsc_p</th>\n",
              "      <th>hsc_s</th>\n",
              "      <th>degree_p</th>\n",
              "      <th>degree_t</th>\n",
              "      <th>workex</th>\n",
              "      <th>etest_p</th>\n",
              "      <th>specialisation</th>\n",
              "      <th>mba_p</th>\n",
              "    </tr>\n",
              "  </thead>\n",
              "  <tbody>\n",
              "    <tr>\n",
              "      <th>0</th>\n",
              "      <td>0</td>\n",
              "      <td>0</td>\n",
              "      <td>55.6</td>\n",
              "      <td>51.0</td>\n",
              "      <td>Commerce</td>\n",
              "      <td>57.50</td>\n",
              "      <td>Comm&amp;Mgmt</td>\n",
              "      <td>0</td>\n",
              "      <td>57.63</td>\n",
              "      <td>0</td>\n",
              "      <td>62.72</td>\n",
              "    </tr>\n",
              "    <tr>\n",
              "      <th>1</th>\n",
              "      <td>0</td>\n",
              "      <td>0</td>\n",
              "      <td>61.8</td>\n",
              "      <td>47.0</td>\n",
              "      <td>Commerce</td>\n",
              "      <td>54.38</td>\n",
              "      <td>Comm&amp;Mgmt</td>\n",
              "      <td>0</td>\n",
              "      <td>57.00</td>\n",
              "      <td>1</td>\n",
              "      <td>56.13</td>\n",
              "    </tr>\n",
              "    <tr>\n",
              "      <th>2</th>\n",
              "      <td>0</td>\n",
              "      <td>0</td>\n",
              "      <td>44.0</td>\n",
              "      <td>58.0</td>\n",
              "      <td>Arts</td>\n",
              "      <td>55.00</td>\n",
              "      <td>Comm&amp;Mgmt</td>\n",
              "      <td>1</td>\n",
              "      <td>64.25</td>\n",
              "      <td>0</td>\n",
              "      <td>58.54</td>\n",
              "    </tr>\n",
              "    <tr>\n",
              "      <th>3</th>\n",
              "      <td>1</td>\n",
              "      <td>1</td>\n",
              "      <td>77.0</td>\n",
              "      <td>73.0</td>\n",
              "      <td>Commerce</td>\n",
              "      <td>81.00</td>\n",
              "      <td>Comm&amp;Mgmt</td>\n",
              "      <td>1</td>\n",
              "      <td>89.00</td>\n",
              "      <td>1</td>\n",
              "      <td>69.70</td>\n",
              "    </tr>\n",
              "    <tr>\n",
              "      <th>4</th>\n",
              "      <td>1</td>\n",
              "      <td>0</td>\n",
              "      <td>65.0</td>\n",
              "      <td>65.0</td>\n",
              "      <td>Commerce</td>\n",
              "      <td>75.00</td>\n",
              "      <td>Comm&amp;Mgmt</td>\n",
              "      <td>0</td>\n",
              "      <td>83.00</td>\n",
              "      <td>1</td>\n",
              "      <td>58.87</td>\n",
              "    </tr>\n",
              "  </tbody>\n",
              "</table>\n",
              "</div>"
            ],
            "text/plain": [
              "   status  gender  ssc_p  hsc_p  ... workex  etest_p specialisation  mba_p\n",
              "0       0       0   55.6   51.0  ...      0    57.63              0  62.72\n",
              "1       0       0   61.8   47.0  ...      0    57.00              1  56.13\n",
              "2       0       0   44.0   58.0  ...      1    64.25              0  58.54\n",
              "3       1       1   77.0   73.0  ...      1    89.00              1  69.70\n",
              "4       1       0   65.0   65.0  ...      0    83.00              1  58.87\n",
              "\n",
              "[5 rows x 11 columns]"
            ]
          },
          "metadata": {
            "tags": []
          },
          "execution_count": 94
        }
      ]
    },
    {
      "cell_type": "code",
      "metadata": {
        "colab": {
          "base_uri": "https://localhost:8080/",
          "height": 204
        },
        "id": "usyHuDQ1b_Lq",
        "outputId": "6ee1386d-b1c6-4df4-94c5-f245795e47b5"
      },
      "source": [
        "test_df.head()"
      ],
      "execution_count": 95,
      "outputs": [
        {
          "output_type": "execute_result",
          "data": {
            "text/html": [
              "<div>\n",
              "<style scoped>\n",
              "    .dataframe tbody tr th:only-of-type {\n",
              "        vertical-align: middle;\n",
              "    }\n",
              "\n",
              "    .dataframe tbody tr th {\n",
              "        vertical-align: top;\n",
              "    }\n",
              "\n",
              "    .dataframe thead th {\n",
              "        text-align: right;\n",
              "    }\n",
              "</style>\n",
              "<table border=\"1\" class=\"dataframe\">\n",
              "  <thead>\n",
              "    <tr style=\"text-align: right;\">\n",
              "      <th></th>\n",
              "      <th>status</th>\n",
              "      <th>gender</th>\n",
              "      <th>ssc_p</th>\n",
              "      <th>hsc_p</th>\n",
              "      <th>hsc_s</th>\n",
              "      <th>degree_p</th>\n",
              "      <th>degree_t</th>\n",
              "      <th>workex</th>\n",
              "      <th>etest_p</th>\n",
              "      <th>specialisation</th>\n",
              "      <th>mba_p</th>\n",
              "    </tr>\n",
              "  </thead>\n",
              "  <tbody>\n",
              "    <tr>\n",
              "      <th>0</th>\n",
              "      <td>1</td>\n",
              "      <td>0</td>\n",
              "      <td>71.0</td>\n",
              "      <td>79.0</td>\n",
              "      <td>Commerce</td>\n",
              "      <td>66.0</td>\n",
              "      <td>Comm&amp;Mgmt</td>\n",
              "      <td>1</td>\n",
              "      <td>94.00</td>\n",
              "      <td>1</td>\n",
              "      <td>57.55</td>\n",
              "    </tr>\n",
              "    <tr>\n",
              "      <th>1</th>\n",
              "      <td>1</td>\n",
              "      <td>1</td>\n",
              "      <td>69.0</td>\n",
              "      <td>78.0</td>\n",
              "      <td>Commerce</td>\n",
              "      <td>72.0</td>\n",
              "      <td>Comm&amp;Mgmt</td>\n",
              "      <td>0</td>\n",
              "      <td>71.00</td>\n",
              "      <td>0</td>\n",
              "      <td>62.74</td>\n",
              "    </tr>\n",
              "    <tr>\n",
              "      <th>2</th>\n",
              "      <td>1</td>\n",
              "      <td>1</td>\n",
              "      <td>79.0</td>\n",
              "      <td>61.0</td>\n",
              "      <td>Science</td>\n",
              "      <td>75.5</td>\n",
              "      <td>Sci&amp;Tech</td>\n",
              "      <td>1</td>\n",
              "      <td>70.00</td>\n",
              "      <td>1</td>\n",
              "      <td>68.20</td>\n",
              "    </tr>\n",
              "    <tr>\n",
              "      <th>3</th>\n",
              "      <td>1</td>\n",
              "      <td>0</td>\n",
              "      <td>82.0</td>\n",
              "      <td>90.0</td>\n",
              "      <td>Commerce</td>\n",
              "      <td>83.0</td>\n",
              "      <td>Comm&amp;Mgmt</td>\n",
              "      <td>0</td>\n",
              "      <td>80.00</td>\n",
              "      <td>0</td>\n",
              "      <td>73.52</td>\n",
              "    </tr>\n",
              "    <tr>\n",
              "      <th>4</th>\n",
              "      <td>0</td>\n",
              "      <td>1</td>\n",
              "      <td>46.0</td>\n",
              "      <td>49.2</td>\n",
              "      <td>Commerce</td>\n",
              "      <td>79.0</td>\n",
              "      <td>Comm&amp;Mgmt</td>\n",
              "      <td>0</td>\n",
              "      <td>74.28</td>\n",
              "      <td>1</td>\n",
              "      <td>53.29</td>\n",
              "    </tr>\n",
              "  </tbody>\n",
              "</table>\n",
              "</div>"
            ],
            "text/plain": [
              "   status  gender  ssc_p  hsc_p  ... workex  etest_p specialisation  mba_p\n",
              "0       1       0   71.0   79.0  ...      1    94.00              1  57.55\n",
              "1       1       1   69.0   78.0  ...      0    71.00              0  62.74\n",
              "2       1       1   79.0   61.0  ...      1    70.00              1  68.20\n",
              "3       1       0   82.0   90.0  ...      0    80.00              0  73.52\n",
              "4       0       1   46.0   49.2  ...      0    74.28              1  53.29\n",
              "\n",
              "[5 rows x 11 columns]"
            ]
          },
          "metadata": {
            "tags": []
          },
          "execution_count": 95
        }
      ]
    },
    {
      "cell_type": "code",
      "metadata": {
        "id": "QwGJkY2eYeOf"
      },
      "source": [
        "train_df_oh=train_df.copy()\n",
        "test_df_oh=test_df.copy()"
      ],
      "execution_count": 96,
      "outputs": []
    },
    {
      "cell_type": "markdown",
      "metadata": {
        "id": "xxWMaJXOZnVU"
      },
      "source": [
        "Per le variabili hsc_s e degree_t utilizzo un one hot encoding perchè le variabili non sono ordinali e i valori sono più di 2."
      ]
    },
    {
      "cell_type": "code",
      "metadata": {
        "id": "FpKLwgQUYYo1"
      },
      "source": [
        "for col in ['hsc_s','degree_t']:\n",
        "  dummy=pd.get_dummies(train_df_oh[col])\n",
        "  train_df_oh=train_df_oh.join(dummy)\n",
        "  train_df_oh=train_df_oh.drop(col,axis=1)\n",
        "for col in ['hsc_s','degree_t']:\n",
        "  dummy=pd.get_dummies(test_df_oh[col])\n",
        "  test_df_oh=test_df_oh.join(dummy)\n",
        "  test_df_oh=test_df_oh.drop(col,axis=1)"
      ],
      "execution_count": 97,
      "outputs": []
    },
    {
      "cell_type": "code",
      "metadata": {
        "colab": {
          "base_uri": "https://localhost:8080/",
          "height": 204
        },
        "id": "Pv9864SEYmG8",
        "outputId": "1462ac73-c1a3-499a-8011-bed332fd06c6"
      },
      "source": [
        "train_df_oh.head()"
      ],
      "execution_count": 98,
      "outputs": [
        {
          "output_type": "execute_result",
          "data": {
            "text/html": [
              "<div>\n",
              "<style scoped>\n",
              "    .dataframe tbody tr th:only-of-type {\n",
              "        vertical-align: middle;\n",
              "    }\n",
              "\n",
              "    .dataframe tbody tr th {\n",
              "        vertical-align: top;\n",
              "    }\n",
              "\n",
              "    .dataframe thead th {\n",
              "        text-align: right;\n",
              "    }\n",
              "</style>\n",
              "<table border=\"1\" class=\"dataframe\">\n",
              "  <thead>\n",
              "    <tr style=\"text-align: right;\">\n",
              "      <th></th>\n",
              "      <th>status</th>\n",
              "      <th>gender</th>\n",
              "      <th>ssc_p</th>\n",
              "      <th>hsc_p</th>\n",
              "      <th>degree_p</th>\n",
              "      <th>workex</th>\n",
              "      <th>etest_p</th>\n",
              "      <th>specialisation</th>\n",
              "      <th>mba_p</th>\n",
              "      <th>Arts</th>\n",
              "      <th>Commerce</th>\n",
              "      <th>Science</th>\n",
              "      <th>Comm&amp;Mgmt</th>\n",
              "      <th>Others</th>\n",
              "      <th>Sci&amp;Tech</th>\n",
              "    </tr>\n",
              "  </thead>\n",
              "  <tbody>\n",
              "    <tr>\n",
              "      <th>0</th>\n",
              "      <td>0</td>\n",
              "      <td>0</td>\n",
              "      <td>55.6</td>\n",
              "      <td>51.0</td>\n",
              "      <td>57.50</td>\n",
              "      <td>0</td>\n",
              "      <td>57.63</td>\n",
              "      <td>0</td>\n",
              "      <td>62.72</td>\n",
              "      <td>0</td>\n",
              "      <td>1</td>\n",
              "      <td>0</td>\n",
              "      <td>1</td>\n",
              "      <td>0</td>\n",
              "      <td>0</td>\n",
              "    </tr>\n",
              "    <tr>\n",
              "      <th>1</th>\n",
              "      <td>0</td>\n",
              "      <td>0</td>\n",
              "      <td>61.8</td>\n",
              "      <td>47.0</td>\n",
              "      <td>54.38</td>\n",
              "      <td>0</td>\n",
              "      <td>57.00</td>\n",
              "      <td>1</td>\n",
              "      <td>56.13</td>\n",
              "      <td>0</td>\n",
              "      <td>1</td>\n",
              "      <td>0</td>\n",
              "      <td>1</td>\n",
              "      <td>0</td>\n",
              "      <td>0</td>\n",
              "    </tr>\n",
              "    <tr>\n",
              "      <th>2</th>\n",
              "      <td>0</td>\n",
              "      <td>0</td>\n",
              "      <td>44.0</td>\n",
              "      <td>58.0</td>\n",
              "      <td>55.00</td>\n",
              "      <td>1</td>\n",
              "      <td>64.25</td>\n",
              "      <td>0</td>\n",
              "      <td>58.54</td>\n",
              "      <td>1</td>\n",
              "      <td>0</td>\n",
              "      <td>0</td>\n",
              "      <td>1</td>\n",
              "      <td>0</td>\n",
              "      <td>0</td>\n",
              "    </tr>\n",
              "    <tr>\n",
              "      <th>3</th>\n",
              "      <td>1</td>\n",
              "      <td>1</td>\n",
              "      <td>77.0</td>\n",
              "      <td>73.0</td>\n",
              "      <td>81.00</td>\n",
              "      <td>1</td>\n",
              "      <td>89.00</td>\n",
              "      <td>1</td>\n",
              "      <td>69.70</td>\n",
              "      <td>0</td>\n",
              "      <td>1</td>\n",
              "      <td>0</td>\n",
              "      <td>1</td>\n",
              "      <td>0</td>\n",
              "      <td>0</td>\n",
              "    </tr>\n",
              "    <tr>\n",
              "      <th>4</th>\n",
              "      <td>1</td>\n",
              "      <td>0</td>\n",
              "      <td>65.0</td>\n",
              "      <td>65.0</td>\n",
              "      <td>75.00</td>\n",
              "      <td>0</td>\n",
              "      <td>83.00</td>\n",
              "      <td>1</td>\n",
              "      <td>58.87</td>\n",
              "      <td>0</td>\n",
              "      <td>1</td>\n",
              "      <td>0</td>\n",
              "      <td>1</td>\n",
              "      <td>0</td>\n",
              "      <td>0</td>\n",
              "    </tr>\n",
              "  </tbody>\n",
              "</table>\n",
              "</div>"
            ],
            "text/plain": [
              "   status  gender  ssc_p  hsc_p  ...  Science  Comm&Mgmt  Others  Sci&Tech\n",
              "0       0       0   55.6   51.0  ...        0          1       0         0\n",
              "1       0       0   61.8   47.0  ...        0          1       0         0\n",
              "2       0       0   44.0   58.0  ...        0          1       0         0\n",
              "3       1       1   77.0   73.0  ...        0          1       0         0\n",
              "4       1       0   65.0   65.0  ...        0          1       0         0\n",
              "\n",
              "[5 rows x 15 columns]"
            ]
          },
          "metadata": {
            "tags": []
          },
          "execution_count": 98
        }
      ]
    },
    {
      "cell_type": "code",
      "metadata": {
        "colab": {
          "base_uri": "https://localhost:8080/",
          "height": 204
        },
        "id": "xGoccwL4cW5n",
        "outputId": "c8119f75-8475-49d2-cac1-5c1ce33db184"
      },
      "source": [
        "test_df_oh.head()"
      ],
      "execution_count": 99,
      "outputs": [
        {
          "output_type": "execute_result",
          "data": {
            "text/html": [
              "<div>\n",
              "<style scoped>\n",
              "    .dataframe tbody tr th:only-of-type {\n",
              "        vertical-align: middle;\n",
              "    }\n",
              "\n",
              "    .dataframe tbody tr th {\n",
              "        vertical-align: top;\n",
              "    }\n",
              "\n",
              "    .dataframe thead th {\n",
              "        text-align: right;\n",
              "    }\n",
              "</style>\n",
              "<table border=\"1\" class=\"dataframe\">\n",
              "  <thead>\n",
              "    <tr style=\"text-align: right;\">\n",
              "      <th></th>\n",
              "      <th>status</th>\n",
              "      <th>gender</th>\n",
              "      <th>ssc_p</th>\n",
              "      <th>hsc_p</th>\n",
              "      <th>degree_p</th>\n",
              "      <th>workex</th>\n",
              "      <th>etest_p</th>\n",
              "      <th>specialisation</th>\n",
              "      <th>mba_p</th>\n",
              "      <th>Arts</th>\n",
              "      <th>Commerce</th>\n",
              "      <th>Science</th>\n",
              "      <th>Comm&amp;Mgmt</th>\n",
              "      <th>Others</th>\n",
              "      <th>Sci&amp;Tech</th>\n",
              "    </tr>\n",
              "  </thead>\n",
              "  <tbody>\n",
              "    <tr>\n",
              "      <th>0</th>\n",
              "      <td>1</td>\n",
              "      <td>0</td>\n",
              "      <td>71.0</td>\n",
              "      <td>79.0</td>\n",
              "      <td>66.0</td>\n",
              "      <td>1</td>\n",
              "      <td>94.00</td>\n",
              "      <td>1</td>\n",
              "      <td>57.55</td>\n",
              "      <td>0</td>\n",
              "      <td>1</td>\n",
              "      <td>0</td>\n",
              "      <td>1</td>\n",
              "      <td>0</td>\n",
              "      <td>0</td>\n",
              "    </tr>\n",
              "    <tr>\n",
              "      <th>1</th>\n",
              "      <td>1</td>\n",
              "      <td>1</td>\n",
              "      <td>69.0</td>\n",
              "      <td>78.0</td>\n",
              "      <td>72.0</td>\n",
              "      <td>0</td>\n",
              "      <td>71.00</td>\n",
              "      <td>0</td>\n",
              "      <td>62.74</td>\n",
              "      <td>0</td>\n",
              "      <td>1</td>\n",
              "      <td>0</td>\n",
              "      <td>1</td>\n",
              "      <td>0</td>\n",
              "      <td>0</td>\n",
              "    </tr>\n",
              "    <tr>\n",
              "      <th>2</th>\n",
              "      <td>1</td>\n",
              "      <td>1</td>\n",
              "      <td>79.0</td>\n",
              "      <td>61.0</td>\n",
              "      <td>75.5</td>\n",
              "      <td>1</td>\n",
              "      <td>70.00</td>\n",
              "      <td>1</td>\n",
              "      <td>68.20</td>\n",
              "      <td>0</td>\n",
              "      <td>0</td>\n",
              "      <td>1</td>\n",
              "      <td>0</td>\n",
              "      <td>0</td>\n",
              "      <td>1</td>\n",
              "    </tr>\n",
              "    <tr>\n",
              "      <th>3</th>\n",
              "      <td>1</td>\n",
              "      <td>0</td>\n",
              "      <td>82.0</td>\n",
              "      <td>90.0</td>\n",
              "      <td>83.0</td>\n",
              "      <td>0</td>\n",
              "      <td>80.00</td>\n",
              "      <td>0</td>\n",
              "      <td>73.52</td>\n",
              "      <td>0</td>\n",
              "      <td>1</td>\n",
              "      <td>0</td>\n",
              "      <td>1</td>\n",
              "      <td>0</td>\n",
              "      <td>0</td>\n",
              "    </tr>\n",
              "    <tr>\n",
              "      <th>4</th>\n",
              "      <td>0</td>\n",
              "      <td>1</td>\n",
              "      <td>46.0</td>\n",
              "      <td>49.2</td>\n",
              "      <td>79.0</td>\n",
              "      <td>0</td>\n",
              "      <td>74.28</td>\n",
              "      <td>1</td>\n",
              "      <td>53.29</td>\n",
              "      <td>0</td>\n",
              "      <td>1</td>\n",
              "      <td>0</td>\n",
              "      <td>1</td>\n",
              "      <td>0</td>\n",
              "      <td>0</td>\n",
              "    </tr>\n",
              "  </tbody>\n",
              "</table>\n",
              "</div>"
            ],
            "text/plain": [
              "   status  gender  ssc_p  hsc_p  ...  Science  Comm&Mgmt  Others  Sci&Tech\n",
              "0       1       0   71.0   79.0  ...        0          1       0         0\n",
              "1       1       1   69.0   78.0  ...        0          1       0         0\n",
              "2       1       1   79.0   61.0  ...        1          0       0         1\n",
              "3       1       0   82.0   90.0  ...        0          1       0         0\n",
              "4       0       1   46.0   49.2  ...        0          1       0         0\n",
              "\n",
              "[5 rows x 15 columns]"
            ]
          },
          "metadata": {
            "tags": []
          },
          "execution_count": 99
        }
      ]
    },
    {
      "cell_type": "code",
      "metadata": {
        "id": "1C5ribavnwud"
      },
      "source": [
        "y_train=train_df_oh['status']\n",
        "X_train=train_df_oh.drop('status',axis=1)\n",
        "y_test=test_df_oh['status']\n",
        "X_test=test_df_oh.drop('status',axis=1)"
      ],
      "execution_count": 100,
      "outputs": []
    },
    {
      "cell_type": "code",
      "metadata": {
        "colab": {
          "base_uri": "https://localhost:8080/"
        },
        "id": "oSpsTY_ZdW_r",
        "outputId": "805bada2-2127-4d60-d9f3-3abef167257f"
      },
      "source": [
        "lr=LogisticRegression().fit(X_train,y_train)\n",
        "pred=lr.predict(X_test)\n",
        "\n",
        "from sklearn import metrics\n",
        "\n",
        "accuracy = metrics.accuracy_score(y_test, pred)\n",
        "precision = metrics.precision_score(y_test, pred)\n",
        "recall = metrics.recall_score(y_test, pred)\n",
        "\n",
        "print(f\"precision: {precision:.4} -- recall: {recall:.4} -- ACCURACY: {accuracy:.4} \")"
      ],
      "execution_count": 131,
      "outputs": [
        {
          "output_type": "stream",
          "text": [
            "precision: 0.9259 -- recall: 0.8929 -- ACCURACY: 0.8571 \n"
          ],
          "name": "stdout"
        },
        {
          "output_type": "stream",
          "text": [
            "/usr/local/lib/python3.7/dist-packages/sklearn/linear_model/_logistic.py:940: ConvergenceWarning: lbfgs failed to converge (status=1):\n",
            "STOP: TOTAL NO. of ITERATIONS REACHED LIMIT.\n",
            "\n",
            "Increase the number of iterations (max_iter) or scale the data as shown in:\n",
            "    https://scikit-learn.org/stable/modules/preprocessing.html\n",
            "Please also refer to the documentation for alternative solver options:\n",
            "    https://scikit-learn.org/stable/modules/linear_model.html#logistic-regression\n",
            "  extra_warning_msg=_LOGISTIC_SOLVER_CONVERGENCE_MSG)\n"
          ],
          "name": "stderr"
        }
      ]
    },
    {
      "cell_type": "markdown",
      "metadata": {
        "id": "lV-iUAdIea9V"
      },
      "source": [
        "Provo a scalare i dati per correggere l'errore"
      ]
    },
    {
      "cell_type": "code",
      "metadata": {
        "id": "5ztylThMedpO"
      },
      "source": [
        " from sklearn.preprocessing import MinMaxScaler\n",
        " scaler = MinMaxScaler()\n",
        " scaled_train_df=pd.DataFrame(scaler.fit_transform(X_train),columns=X_train.columns)\n",
        " scaled_test_df=pd.DataFrame(scaler.fit_transform(X_test),columns=X_test.columns)"
      ],
      "execution_count": 134,
      "outputs": []
    },
    {
      "cell_type": "code",
      "metadata": {
        "colab": {
          "base_uri": "https://localhost:8080/",
          "height": 204
        },
        "id": "InkvxZ0fgm6O",
        "outputId": "8d43f035-7896-4a1b-890f-7b65a0f82dc4"
      },
      "source": [
        "scaled_train_df.head()"
      ],
      "execution_count": 135,
      "outputs": [
        {
          "output_type": "execute_result",
          "data": {
            "text/html": [
              "<div>\n",
              "<style scoped>\n",
              "    .dataframe tbody tr th:only-of-type {\n",
              "        vertical-align: middle;\n",
              "    }\n",
              "\n",
              "    .dataframe tbody tr th {\n",
              "        vertical-align: top;\n",
              "    }\n",
              "\n",
              "    .dataframe thead th {\n",
              "        text-align: right;\n",
              "    }\n",
              "</style>\n",
              "<table border=\"1\" class=\"dataframe\">\n",
              "  <thead>\n",
              "    <tr style=\"text-align: right;\">\n",
              "      <th></th>\n",
              "      <th>gender</th>\n",
              "      <th>ssc_p</th>\n",
              "      <th>hsc_p</th>\n",
              "      <th>degree_p</th>\n",
              "      <th>workex</th>\n",
              "      <th>etest_p</th>\n",
              "      <th>specialisation</th>\n",
              "      <th>mba_p</th>\n",
              "      <th>Arts</th>\n",
              "      <th>Commerce</th>\n",
              "      <th>Science</th>\n",
              "      <th>Comm&amp;Mgmt</th>\n",
              "      <th>Others</th>\n",
              "      <th>Sci&amp;Tech</th>\n",
              "    </tr>\n",
              "  </thead>\n",
              "  <tbody>\n",
              "    <tr>\n",
              "      <th>0</th>\n",
              "      <td>0.0</td>\n",
              "      <td>0.319020</td>\n",
              "      <td>0.233333</td>\n",
              "      <td>0.182927</td>\n",
              "      <td>0.0</td>\n",
              "      <td>0.162340</td>\n",
              "      <td>0.0</td>\n",
              "      <td>0.468059</td>\n",
              "      <td>0.0</td>\n",
              "      <td>1.0</td>\n",
              "      <td>0.0</td>\n",
              "      <td>1.0</td>\n",
              "      <td>0.0</td>\n",
              "      <td>0.0</td>\n",
              "    </tr>\n",
              "    <tr>\n",
              "      <th>1</th>\n",
              "      <td>0.0</td>\n",
              "      <td>0.453481</td>\n",
              "      <td>0.166667</td>\n",
              "      <td>0.106829</td>\n",
              "      <td>0.0</td>\n",
              "      <td>0.148936</td>\n",
              "      <td>1.0</td>\n",
              "      <td>0.198198</td>\n",
              "      <td>0.0</td>\n",
              "      <td>1.0</td>\n",
              "      <td>0.0</td>\n",
              "      <td>1.0</td>\n",
              "      <td>0.0</td>\n",
              "      <td>0.0</td>\n",
              "    </tr>\n",
              "    <tr>\n",
              "      <th>2</th>\n",
              "      <td>0.0</td>\n",
              "      <td>0.067447</td>\n",
              "      <td>0.350000</td>\n",
              "      <td>0.121951</td>\n",
              "      <td>1.0</td>\n",
              "      <td>0.303191</td>\n",
              "      <td>0.0</td>\n",
              "      <td>0.296888</td>\n",
              "      <td>1.0</td>\n",
              "      <td>0.0</td>\n",
              "      <td>0.0</td>\n",
              "      <td>1.0</td>\n",
              "      <td>0.0</td>\n",
              "      <td>0.0</td>\n",
              "    </tr>\n",
              "    <tr>\n",
              "      <th>3</th>\n",
              "      <td>1.0</td>\n",
              "      <td>0.783127</td>\n",
              "      <td>0.600000</td>\n",
              "      <td>0.756098</td>\n",
              "      <td>1.0</td>\n",
              "      <td>0.829787</td>\n",
              "      <td>1.0</td>\n",
              "      <td>0.753890</td>\n",
              "      <td>0.0</td>\n",
              "      <td>1.0</td>\n",
              "      <td>0.0</td>\n",
              "      <td>1.0</td>\n",
              "      <td>0.0</td>\n",
              "      <td>0.0</td>\n",
              "    </tr>\n",
              "    <tr>\n",
              "      <th>4</th>\n",
              "      <td>0.0</td>\n",
              "      <td>0.522880</td>\n",
              "      <td>0.466667</td>\n",
              "      <td>0.609756</td>\n",
              "      <td>0.0</td>\n",
              "      <td>0.702128</td>\n",
              "      <td>1.0</td>\n",
              "      <td>0.310401</td>\n",
              "      <td>0.0</td>\n",
              "      <td>1.0</td>\n",
              "      <td>0.0</td>\n",
              "      <td>1.0</td>\n",
              "      <td>0.0</td>\n",
              "      <td>0.0</td>\n",
              "    </tr>\n",
              "  </tbody>\n",
              "</table>\n",
              "</div>"
            ],
            "text/plain": [
              "   gender     ssc_p     hsc_p  degree_p  ...  Science  Comm&Mgmt  Others  Sci&Tech\n",
              "0     0.0  0.319020  0.233333  0.182927  ...      0.0        1.0     0.0       0.0\n",
              "1     0.0  0.453481  0.166667  0.106829  ...      0.0        1.0     0.0       0.0\n",
              "2     0.0  0.067447  0.350000  0.121951  ...      0.0        1.0     0.0       0.0\n",
              "3     1.0  0.783127  0.600000  0.756098  ...      0.0        1.0     0.0       0.0\n",
              "4     0.0  0.522880  0.466667  0.609756  ...      0.0        1.0     0.0       0.0\n",
              "\n",
              "[5 rows x 14 columns]"
            ]
          },
          "metadata": {
            "tags": []
          },
          "execution_count": 135
        }
      ]
    },
    {
      "cell_type": "markdown",
      "metadata": {
        "id": "iSJKlTdRj5Fh"
      },
      "source": [
        "# Modello\n",
        "Vado a creare il modello e a verificarne l'accuratezza"
      ]
    },
    {
      "cell_type": "code",
      "metadata": {
        "colab": {
          "base_uri": "https://localhost:8080/"
        },
        "id": "hu76UqWui65N",
        "outputId": "9cc59a3a-233c-4642-aaac-4011a94cef5c"
      },
      "source": [
        "lr=LogisticRegression().fit(scaled_train_df,y_train)\n",
        "pred=lr.predict(scaled_test_df)\n",
        "\n",
        "from sklearn import metrics\n",
        "\n",
        "accuracy = metrics.accuracy_score(y_test, pred)\n",
        "precision = metrics.precision_score(y_test, pred)\n",
        "recall = metrics.recall_score(y_test, pred)\n",
        "\n",
        "print(f\"precision: {precision:.4} -- recall: {recall:.4} -- ACCURACY: {accuracy:.4} \")"
      ],
      "execution_count": 136,
      "outputs": [
        {
          "output_type": "stream",
          "text": [
            "precision: 0.9259 -- recall: 0.8929 -- ACCURACY: 0.8571 \n"
          ],
          "name": "stdout"
        }
      ]
    },
    {
      "cell_type": "code",
      "metadata": {
        "colab": {
          "base_uri": "https://localhost:8080/"
        },
        "id": "BuCjyH0VjaHH",
        "outputId": "46503c8c-834f-41e4-ba1c-57c4d0a6d9e9"
      },
      "source": [
        "print(pd.crosstab(y_test, pred, rownames=['valore reale'], colnames=['valore previsto']))"
      ],
      "execution_count": 137,
      "outputs": [
        {
          "output_type": "stream",
          "text": [
            "valore previsto  0   1\n",
            "valore reale          \n",
            "0                5   2\n",
            "1                3  25\n"
          ],
          "name": "stdout"
        }
      ]
    }
  ]
}